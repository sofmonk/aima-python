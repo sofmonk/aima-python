{
 "cells": [
  {
   "cell_type": "markdown",

   "metadata": {},
   "source": [
    "# PLANNING"
   ]
  },
  {
   "cell_type": "markdown",
   "metadata": {},
   "source": [
    "This notebook describes the planning.py module, which covers Classical Planning from Chapter 10 & Planning & Acting in Real World Chapter 11."

   ]
  },
  {
   "cell_type": "markdown",
   "metadata": {},
   "source": [

    "This notebook describes the [planning.py](https://github.com/aimacode/aima-python/blob/master/planning.py) module, which covers Chapters 10 (Classical Planning) and  11 (Planning and Acting in the Real World) of *[Artificial Intelligence: A Modern Approach](http://aima.cs.berkeley.edu)*. See the [intro notebook](https://github.com/aimacode/aima-python/blob/master/intro.ipynb) for instructions.\n",
    "\n",
    "We'll start by looking at `PDDL` and `Action` data types for defining problems and actions. Then, we will see how to use them by trying to plan a trip from *Sibiu* to *Bucharest* across the familiar map of Romania, from [search.ipynb](https://github.com/aimacode/aima-python/blob/master/search.ipynb). Finally, we will look at the implementation of the GraphPlan algorithm.\n",
    "\n",
    "The first step is to load the code:"

   ]
  },
  {
   "cell_type": "code",
   "execution_count": 1,

   "metadata": {
    "collapsed": false
   },
   "outputs": [],
   "source": [
    "from planning import *"
   ]
  },
  {
   "cell_type": "markdown",
   "metadata": {},
   "source": [
    "To be able to model a planning problem properly, it is essential to be able to represent an Action. Each action we model requires at least three things:\n",
    "* preconditions that the action must meet\n",
    "* the effects of executing the action\n",
    "* some expression that represents the action"
   ]
  },
  {
   "cell_type": "markdown",
   "metadata": {},
   "source": [
    "Planning actions have been modelled using the `Action` class. Let's look at the source to see how the internal details of an action are implemented in Python."
   ]
  },
  {
   "cell_type": "code",
   "execution_count": 2,

   "metadata": {
    "collapsed": false
   },
   "outputs": [],
   "source": [
   
    "from planning import *\n",
    "from utils import expr"
   ]
  },
  {
   "cell_type": "markdown",
   "metadata": {},
   "source": [
    "## **The Planning Problem** \n",
    "> To find an executable sequence of actions that achieves a given goal when performed starting in a given state.\n",
    "\n",
    "Motivation of the planning process is to reason about possible course of actions that will change the environment in order to reach the goal (task)."
   ]
  },
  {
   "cell_type": "markdown",
   "metadata": {},
   "source": [
    "## Planning v/s Scheduling\n",
    "\n",
    "We need to understand the difference between the terms:\n"
   ]
  },
  {
   "cell_type": "markdown",
   "metadata": {},
   "source": [
    "\n",
    "\n",
    "**Scheduling** - assigns in time resources to separate processes.\n",
    "\n",
    "Given: _resources, actions and constraints._\n",
    "\n",
    "       Form an appropriate schedule that meets the constraints\n",
    "\n",
    "       Arrange the actions, assign resources and satisfy the constrains.\n"
   ]
  },
  {
   "cell_type": "markdown",
   "metadata": {},
   "source": [
    "**Planning** - considers possible interaction among components of plan.\n",
    "\n",
    "Given: _the initial state, goal state, operators._\n",
    "\n",
    "       Find a sequence of operators that will reach the goal state from the initial state\n",
    "\n",
    "       Select appropriate actions, arrange the actions and consider the causalities"
   ]
  },
  {
   "cell_type": "markdown",
   "metadata": {},
   "source": [
    ""
   ]
  },
  {
   "cell_type": "markdown",
   "metadata": {},
   "source": [
    "## Assumptions in Classical Planning\n",
    "\n",
    "Classical planners make at least the following assumptions:\n",
    "\n",
    "- the agent's actions are deterministic; that is, the agent can predict the consequences of its actions.\n",
    "- there are no external events beyond the control of the agent that change the state of the world.\n",
    "- the world is fully observable; thus, the agent can observe the current state of the world.\n",
    "- time progresses discretely from one state to the next.\n",
    "- goals are predicates of states that must be achieved or maintained.\n"
   ]
  },
  {
   "cell_type": "markdown",
   "metadata": {},
   "source": [
    ""
   ]
  },
  {
   "cell_type": "markdown",
   "metadata": {},
   "source": [
    "## Representations For Planning:\n",
    "\n",
    "1. **STRIPS** \n",
    "The simplest language used for formalizing actions is the STRIPS language. In STRIPS, the state variables have the domain {0,1} (equivalently {FALSE, TRUE}), and an action consists of three sets of state variables, the PRECONDITION, the ADD={a1,a2,...,an} list, and the DELETE={d1,d2,...,dm} list (it is assumed that ADD and DELETE don't intersect.) \n",
    "\n",
    "2. **ADL**\n",
    "Action description language (ADL) is an automated planning and scheduling system in particular for robots. It is considered an advancement of STRIPS. We won't go ino its details here.\n",
    "\n",
    "3. **PDDL**\n",
    "(\"Planning Domain Definition Language\") is a recent atempt to standardize planning domain and problem description languages. It was developed mainly to make the 1998/2000 International Planning Competitions possible. \n",
    "\n",
    "The differences of PDDL in comparison to STRIPS are:\n",
    "\n",
    "  - The PRECONDITION may be an arbitrary Boolean combination of atomic facts about the state variables. Atomic facts say something about one state variable, for example a=0 or b=1. A precondition could for example be (a=1)∨¬(b=1∧c=0).\n",
    "  - Instead of the unconditional assignments represented by ADD and DELETE, the effects may be conditional. This means that the effects are of the form, IF condition THEN a := v where the condition is a Boolean combination of facts. STRIPS corresponds to PDDL with trivial conditions that are always true (the condition is the constant TRUE).\n",
    "  - Goals may be Boolean combinations of atomic facts (formulas). \n",
    "\n",
    "We will be using **PDDL** consistent with the book."
   ]
  },
  {
   "cell_type": "markdown",
   "metadata": {},
   "source": [
    "#PDDL \n",
    "The PDDL (Planning Domain Definition Language)   allows us to express all actions with one action schema.\n",
    "\n",
    "It can be used to define a problem:\n",
    "1. initial state\n",
    "2. Actions that are available in a state\n",
    "3. Result of applying an action\n",
    "4. The goal test\n",
    "\n",
    "\n",
    "The `PDDL class` includes:\n",
    "\n",
    "1. **`init(self, initial_state, actions, goal_test)`**: the constructor creates a knowledge base with initial state, initialises actions and `goal_test_func` function with `goal_test`.\n",
    "2. **`goal_test(self)`**: initialises `goal_test` with `kb`.\n",
    "3. **`act(self, action)`**:  performs the action given as argument, along with checks preformed on pre-conditions.\n",
    "\n",
    "\n",
    "PDDL is a domain definition language. It is used to define the properties of a domain, the predicates which are used and the action definition.  A predicate defines the property of an object which can be true or false, e.g. yellow t-shirt. Yellow is the property and t-shirt is the object. "
   ]
  },
  {
   "cell_type": "markdown",
   "metadata": {},
   "source": [
    "#ACTIONS\n",
    "Actions are described by a set of action schemas that implicitly define the `class Actions`.\n",
    "The schema consists of a action name, a list of variables used in the schema, a precondition (positive and negative) and effect (positive and negative). \n",
    "\n",
    "The  **precondition** of an action specifies when the action can be carried out. The precondition of an action is a proposition that must be true before the action can be carried out. In terms of constraints, the robot is constrained to only be able to choose an action for which the precondition is true. \n",
    "For example, in the block problem move(x,y) has preconditions clear(x) and clear(y). The action move(x,table) is always possible.\n",
    "\n",
    "The **effect** of an action specifies the resulting state.\n",
    "Each problem described in chapter 10 has:\n",
    "- an initial state\n",
    "- a goal\n",
    "- actions with preconditions and effects (these action are split into _pos (positive conditions) and _neg (negative conditions))\n",
    "Each problem thus requires a solution which is satisfied by some initial conditions and solved using actions which meet the preconditions and effects.\n",
    " \n",
    "We say that action `a` is **applicable** in state s if the preconditions are satisfied by s.\n",
    "\n",
    "Now that we have a sense of the representations let's go through some examples."
   ]
  },
  {
   "cell_type": "markdown",
   "metadata": {},
   "source": [
    "## Factored Representation:\n",
    "\n",
    "In contrast to atomic representation where state is a single indivisible entity (figure on the left), in factored representation state is a collection of variables (figure on the right below).\n",
    "\n",
    "<img src=\"files/images/factored_state_representation.png\"> The problems we see ahead are in factored state representation.","\n","Now that we have a sense of the representations let's see some examples."
   ]
  },
  {
   "cell_type": "markdown",
   "metadata": {},
   "source": [
    "# AIR CARGO PROBLEM\n",
    "\n",
    "The problem is to transport cargo via plane to & from airports.\n",
    "\n",
    "###Real Life Cargo Transportaion by Planes instance:\n",
    "- 10 airports\n",
    "- 50 aircrafts\n",
    "- 200 pieces of cargo\n",
    "- no. of states 10<sup>50</sup> x (50 + 10)<sup>200  $\\approx$ 10<sup>405</sup>\n",
    "- minimum number of actions 50 x 9 =450 (all cargo located on airport with no planes)\n",
    "- maximum number of actions 50<sup>200</sup> x 9 $\\approx$ 10<sup>340</sup> (all cargo and aircrafts in one airport)\n",
    "\n",
    "Practically: The number of particles in the universe is about **_10<sup>87</sup>_**.\n",
    "\n",
    "That is where automated planning research comes in to solve such problems using classical planning (or other algorithms)."
   ]
  },
  {
   "cell_type": "markdown",
   "metadata": {},
   "source": [
    "#####For now we will stick to the example from the book from Fig. 10.1:\n",
    "\n",
    "\n",
    "To define a problem we have to define an initial state (predicates which are true at the beginning of the problem) and a goal state (predicates which are true at the end of the problem). \n",
    "\n",
    "\n",
    "The following code defines the initial state for the problem\n"
   ]
  },
  {
   "cell_type": "code",
   "execution_count": 2,
   "metadata": {},
   "outputs": [],
   "source": [
    "def air_cargo():\n",
    "    init = [expr('At(C1, SFO)'),     \n",
    "            expr('At(C2, JFK)'),\n",
    "            expr('At(P1, SFO)'),\n",
    "            expr('At(P2, JFK)'),\n",
    "            expr('Cargo(C1)'),\n",
    "            expr('Cargo(C2)'),\n",
    "            expr('Plane(P1)'),\n",
    "            expr('Plane(P2)'),\n",
    "            expr('Airport(JFK)'),\n",
    "            expr('Airport(SFO)')]"
   ]
  },
  {
   "cell_type": "markdown",
   "metadata": {},
   "source": [
    "`init` defines the initial state of the problem.\n",
    "\n",
    "**`expr('At(C1, SF0)')`** represents the predicate **Cargo 1 at San Fransisco**\n",
    "\n",
    "**`expr('At(P1, SF0)')`** represents the predicate **Plane 1 at San Fransisco**    ... and so on.\n",
    "\n",
    "\n",
    "\n",
    "The following code defines the goal_test() function which tests if the solution achieves goal or not. 'required' states the goal:"

    "%psource Action"

   ]
  },
  {
   "cell_type": "markdown",
   "metadata": {},
   "source": [
    "It is interesting to see the way preconditions and effects are represented here. Instead of just being a list of expressions each, they consist of two lists - `precond_pos` and `precond_neg`. This is to work around the fact that PDDL doesn't allow for negations. Thus, for each precondition, we maintain a seperate list of those preconditions that must hold true, and those whose negations must hold true. Similarly, instead of having a single list of expressions that are the result of executing an action, we have two. The first (`effect_add`) contains all the expressions that will evaluate to true if the action is executed, and the the second (`effect_neg`) contains all those expressions that would be false if the action is executed (ie. their negations would be true).\n",
    "\n",
    "The constructor parameters, however combine the two precondition lists into a single `precond` parameter, and the effect lists into a single `effect` parameter."
   ]
  },
  {
   "cell_type": "markdown",
   "metadata": {},
   "source": [
    "The `PDDL` class is used to represent planning problems in this module. The following attributes are essential to be able to define a problem:\n",
    "* a goal test\n",
    "* an initial state\n",
    "* a set of viable actions that can be executed in the search space of the problem\n",
    "\n",
    "View the source to see how the Python code tries to realise these."
   ]
  },
  {
   "cell_type": "code",
   "execution_count": 3,
   "metadata": {
    "collapsed": false
   },
   "outputs": [],
   "source": [
    "%psource PDDL"
   ]
  },
  {
   "cell_type": "markdown",
   "metadata": {},
   "source": [
    "The `initial_state` attribute is a list of `Expr` expressions that forms the initial knowledge base for the problem. Next, `actions` contains a list of `Action` objects that may be executed in the search space of the problem. Lastly, we pass a `goal_test` function as a parameter - this typically takes a knowledge base as a parameter, and returns whether or not the goal has been reached."
   ]
  },
  {
   "cell_type": "markdown",
   "metadata": {},
   "source": [
    "Now lets try to define a planning problem using these tools. Since we already know about the map of Romania, lets see if we can plan a trip across a simplified map of Romania.\n",
    "\n",
    "Here is our simplified map definition:"
   ]
  },
  {
   "cell_type": "code",
   "execution_count": 4,
   "metadata": {
    "collapsed": false
   },
   "outputs": [],
   "source": [
    "from utils import *\n",
    "# this imports the required expr so we can create our knowledge base\n",
    "\n",
    "knowledge_base = [\n",
    "    expr(\"Connected(Bucharest,Pitesti)\"),\n",
    "    expr(\"Connected(Pitesti,Rimnicu)\"),\n",
    "    expr(\"Connected(Rimnicu,Sibiu)\"),\n",
    "    expr(\"Connected(Sibiu,Fagaras)\"),\n",
    "    expr(\"Connected(Fagaras,Bucharest)\"),\n",
    "    expr(\"Connected(Pitesti,Craiova)\"),\n",
    "    expr(\"Connected(Craiova,Rimnicu)\")\n",
    "    ]"
   ]
  },
  {
   "cell_type": "markdown",
   "metadata": {},
   "source": [
    "Let us add some logic propositions to complete our knowledge about travelling around the map. These are the typical symmetry and transitivity properties of connections on a map. We can now be sure that our `knowledge_base` understands what it truly means for two locations to be connected in the sense usually meant by humans when we use the term.\n",
    "\n",
    "Let's also add our starting location - *Sibiu* to the map."
   ]
  },
  {
   "cell_type": "code",
   "execution_count": 5,
   "metadata": {
    "collapsed": true
   },
   "outputs": [],
   "source": [
    "knowledge_base.extend([\n",
    "     expr(\"Connected(x,y) ==> Connected(y,x)\"),\n",
    "     expr(\"Connected(x,y) & Connected(y,z) ==> Connected(x,z)\"),\n",
    "     expr(\"At(Sibiu)\")\n",
    "    ])"
   ]
  },
  {
   "cell_type": "markdown",
   "metadata": {},
   "source": [
    "We now have a complete knowledge base, which can be seen like this:"
   ]
  },
  {
   "cell_type": "code",
   "execution_count": 6,
   "metadata": {
    "collapsed": false
   },
   "outputs": [
    {
     "data": {
      "text/plain": [
       "[Connected(Bucharest, Pitesti),\n",
       " Connected(Pitesti, Rimnicu),\n",
       " Connected(Rimnicu, Sibiu),\n",
       " Connected(Sibiu, Fagaras),\n",
       " Connected(Fagaras, Bucharest),\n",
       " Connected(Pitesti, Craiova),\n",
       " Connected(Craiova, Rimnicu),\n",
       " (Connected(x, y) ==> Connected(y, x)),\n",
       " ((Connected(x, y) & Connected(y, z)) ==> Connected(x, z)),\n",
       " At(Sibiu)]"
      ]
     },
     "execution_count": 6,
     "metadata": {},
     "output_type": "execute_result"
    }
   ],
   "source": [
    "knowledge_base"
   ]
  },
  {
   "cell_type": "markdown",
   "metadata": {},
   "source": [
    "We now define possible actions to our problem. We know that we can drive between any connected places. But, as is evident from [this](https://en.wikipedia.org/wiki/List_of_airports_in_Romania) list of Romanian airports, we can also fly directly between Sibiu, Bucharest, and Craiova.\n",
    "\n",
    "We can define these flight actions like this:"
   ]
  },
  {
   "cell_type": "code",
   "execution_count": 7,
   "metadata": {
    "collapsed": false
   },
   "outputs": [],
   "source": [
    "#Sibiu to Bucharest\n",
    "precond_pos = [expr('At(Sibiu)')]\n",
    "precond_neg = []\n",
    "effect_add = [expr('At(Bucharest)')]\n",
    "effect_rem = [expr('At(Sibiu)')]\n",
    "fly_s_b = Action(expr('Fly(Sibiu, Bucharest)'), [precond_pos, precond_neg], [effect_add, effect_rem])\n",
    "\n",
    "#Bucharest to Sibiu\n",
    "precond_pos = [expr('At(Bucharest)')]\n",
    "precond_neg = []\n",
    "effect_add = [expr('At(Sibiu)')]\n",
    "effect_rem = [expr('At(Bucharest)')]\n",
    "fly_b_s = Action(expr('Fly(Bucharest, Sibiu)'), [precond_pos, precond_neg], [effect_add, effect_rem])\n",
    "\n",
    "#Sibiu to Craiova\n",
    "precond_pos = [expr('At(Sibiu)')]\n",
    "precond_neg = []\n",
    "effect_add = [expr('At(Craiova)')]\n",
    "effect_rem = [expr('At(Sibiu)')]\n",
    "fly_s_c = Action(expr('Fly(Sibiu, Craiova)'), [precond_pos, precond_neg], [effect_add, effect_rem])\n",
    "\n",
    "#Craiova to Sibiu\n",
    "precond_pos = [expr('At(Craiova)')]\n",
    "precond_neg = []\n",
    "effect_add = [expr('At(Sibiu)')]\n",
    "effect_rem = [expr('At(Craiova)')]\n",
    "fly_c_s = Action(expr('Fly(Craiova, Sibiu)'), [precond_pos, precond_neg], [effect_add, effect_rem])\n",
    "\n",
    "#Bucharest to Craiova\n",
    "precond_pos = [expr('At(Bucharest)')]\n",
    "precond_neg = []\n",
    "effect_add = [expr('At(Craiova)')]\n",
    "effect_rem = [expr('At(Bucharest)')]\n",
    "fly_b_c = Action(expr('Fly(Bucharest, Craiova)'), [precond_pos, precond_neg], [effect_add, effect_rem])\n",
    "\n",
    "#Craiova to Bucharest\n",
    "precond_pos = [expr('At(Craiova)')]\n",
    "precond_neg = []\n",
    "effect_add = [expr('At(Bucharest)')]\n",
    "effect_rem = [expr('At(Craiova)')]\n",
    "fly_c_b = Action(expr('Fly(Craiova, Bucharest)'), [precond_pos, precond_neg], [effect_add, effect_rem])"
   ]
  },
  {
   "cell_type": "markdown",
   "metadata": {},
   "source": [
    "And the drive actions like this."
   ]
  },
  {
   "cell_type": "code",
   "execution_count": 8,
   "metadata": {
    "collapsed": true
   },
   "outputs": [],
   "source": [
    "#Drive\n",
    "precond_pos = [expr('At(x)')]\n",
    "precond_neg = []\n",
    "effect_add = [expr('At(y)')]\n",
    "effect_rem = [expr('At(x)')]\n",
    "drive = Action(expr('Drive(x, y)'), [precond_pos, precond_neg], [effect_add, effect_rem])"
   ]
  },
  {
   "cell_type": "markdown",
   "metadata": {},
   "source": [
    "Finally, we can define a a function that will tell us when we have reached our destination, Bucharest."
   ]
  },
  {
   "cell_type": "code",
   "execution_count": 9,
   "metadata": {
    "collapsed": true
   },
   "outputs": [],
   "source": [
    "def goal_test(kb):\n",
    "    return kb.ask(expr(\"At(Bucharest)\"))"
   ]
  },
  {
   "cell_type": "markdown",
   "metadata": {},
   "source": [
    "Thus, with all the components in place, we can define the planning problem."
   ]
  },
  {
   "cell_type": "code",
   "execution_count": 10,
   "metadata": {
    "collapsed": false
   },
   "outputs": [],
   "source": [
    "prob = PDDL(knowledge_base, [fly_s_b, fly_b_s, fly_s_c, fly_c_s, fly_b_c, fly_c_b, drive], goal_test)"
   ]
  },
  {
   "cell_type": "code",
   "execution_count": null,
   "metadata": {
    "collapsed": false
   },
   "outputs": [],
   "source": []
  },
  {
   "cell_type": "code",
   "execution_count": 3,
   "metadata": {},
   "outputs": [],
   "source": [
    "def goal_test(kb):\n",
    "        required = [expr('At(C1 , JFK)'), expr('At(C2 ,SFO)')]\n",
    "        for q in required:\n",
    "            if kb.ask(q) is False:\n",
    "                return False\n",
    "        return True"
   ]
  },
  {
   "cell_type": "markdown",
   "metadata": {},
   "source": [
    "For this problem the Goal is   **`(At(C1 , JFK ) ∧ At(C2 , SFO))`** i.e., **Cargo 1 ar JFK and Cargo 2 at San Fransisco** which is written as:\n",
    "\n",
    "`required = [expr('At(C1 , JFK)'), expr('At(C2 ,SFO)')]`\n",
    "\n",
    "The function `goal_test(kb)` takes a knowledge base as argument, and for every predicate in `required` (goal), it checks the `ask` function from `KB class`. The `ask` function returns value `True` or `False` accordingly if predicate in `required` meets preconditions or not (defined ahead).\n",
    "\n",
    "\n",
    "Actions such as 'load', 'unload'  and fly are defined with preconditions and effects accompanying them."
   ]
  },
  {
   "cell_type": "code",
   "execution_count": 4,
   "metadata": {},
   "outputs": [],
   "source": [
    "# Actions\n",
    "#  Load\n",
    "precond_pos = [expr(\"At(c, a)\"), expr(\"At(p, a)\"), expr(\"Cargo(c)\"), expr(\"Plane(p)\"), expr(\"Airport(a)\")]\n",
    "precond_neg = []\n",
    "effect_add = [expr(\"In(c, p)\")]\n",
    "effect_rem = [expr(\"At(c, a)\")]\n",
    "load = Action(expr(\"Load(c, p, a)\"), [precond_pos, precond_neg], [effect_add, effect_rem])\n",
    "\n",
    "#  Unload\n",
    "precond_pos = [expr(\"In(c, p)\"), expr(\"At(p, a)\"), expr(\"Cargo(c)\"), expr(\"Plane(p)\"), expr(\"Airport(a)\")]\n",
    "precond_neg = []\n",
    "effect_add = [expr(\"At(c, a)\")]\n",
    "effect_rem = [expr(\"In(c, p)\")]\n",
    "unload = Action(expr(\"Unload(c, p, a)\"), [precond_pos, precond_neg], [effect_add, effect_rem])\n",
    "\n",
    "#  Fly\n",
    "#  Used 'f' instead of 'from' because 'from' is a python keyword and expr uses eval() function\n",
    "precond_pos = [expr(\"At(p, f)\"), expr(\"Plane(p)\"), expr(\"Airport(f)\"), expr(\"Airport(to)\")]\n",
    "precond_neg = []\n",
    "effect_add = [expr(\"At(p, to)\")]\n",
    "effect_rem = [expr(\"At(p, f)\")]\n",
    "fly = Action(expr(\"Fly(p, f, to)\"), [precond_pos, precond_neg], [effect_add, effect_rem])"
   ]
  },
  {
   "cell_type": "markdown",
   "metadata": {},
   "source": [
    "`precond_` is used to denote predicates which must be True **before** the action.\n",
    "eg: \n",
    "\n",
    "`effect_` is used to denote predicates which must be True **after** the action.\n",
    "\n",
    "`precon_pos` & `effect_add` are used to denote predicates which must be **True**.\n",
    "\n",
    "`precon_neg` & `effect_rem` are used to denote predicates which must be **False**.\n",
    "\n",
    "\n",
    "Eg: in  Action `load`\n",
    "\n",
    "`precond_pos = [expr(\"At(c, a)\"), expr(\"At(p, a)\"), expr(\"Cargo(c)\"), expr(\"Plane(p)\"), expr(\"Airport(a)\")]` is a  precondition which must be **True**   denoting predicate _Cargo c at Airport a & Plane p at Airport a_.\n",
    "\n",
    "`precond_neg = []` is a precondition which must be **False**. \t\t\t\n",
    "\n",
    "`effect_add = [expr(\"In(c, p)\")]` is an effect which must be **True**  denoting the predicate _Cargo c in Plane p_.\n",
    "\n",
    "`effect_rem = [expr(\"At(c, a)\")]`is an effect which must be **False** denoting the predicate _Cargo c at Airport a_.\n",
    "\n",
    "`load = Action(expr(\"Load(c, p, a)\"), [precond_pos, precond_neg], [effect_add, effect_rem])`   thus define the action **`Load(c, p, a)** with the preconditions it must follow and the effects it leads to.\n"
   ]
  },
  {
   "cell_type": "markdown",
   "metadata": {},
   "source": [
    "\n",
    "Finally, the function returns the defined problem using PDLL.\n",
    "\n",
    "`return(PDLL(init, [load, unload, fly], goal_test)`\n",
    "\n",
    " which defines the problem as a whole with its initial state (`init`), the actions possible(` [load, unload, fly]`) and the goal(`goal_test`)."
   ]
  },
  {
   "cell_type": "markdown",
   "metadata": {},
   "source": [
    ""
   ]
  },
  {
   "cell_type": "markdown",
   "metadata": {},
   "source": [
    ""
   ]
  },
  {
   "cell_type": "markdown",
   "metadata": {},
   "source": [
    "A solution to the air_cargo problem is as follows:"
   ]
  },
  {
   "cell_type": "code",
   "execution_count": 2,
   "metadata": {},
   "outputs": [],
   "source": [
    "solution = [expr(\"Load(C1 , P1, SFO)\"),\n",
    "            expr(\"Fly(P1, SFO, JFK)\"),\n",
    "            expr(\"Unload(C1, P1, JFK)\"),\n",
    "            expr(\"Load(C2, P2, JFK)\"),\n",
    "            expr(\"Fly(P2, JFK, SFO)\"),\n",
    "            expr(\"Unload (C2, P2, SFO)\")]"
   ]
  },
  {
   "cell_type": "markdown",
   "metadata": {},
   "source": [
    "where `expr(\"Load(C1 , P1, SFO)\")` means _load the Cargo C1 in Plane P1 at San Fransico_. In order for this action to take place the preconditions we specified while defining the action `Load` must be met.  The effects from this action are then carried forward i.e., they now are an existing state and it should be sought that these effects do **not** clash with preconditions of actions ahead, otherwise the action can't be completed. \n",
    "\n",
    "Following lines describe the _plan_ of the above solution:\n",
    "\n",
    "`expr(\"Load(C1 , P1, SFO)\") ` -->  _Load Cargo C1 in Plane P1 at San Fransico_\n",
    "\n",
    "`expr(\"Fly(P1, SFO, JFK)\")`    -->  _Fly Plane P1 from San Fransisco to JFK_\n",
    "\n",
    "`expr(\"Unload(C1, P1, JFK)\")` -->  _Unload Cargo C1 from Plane P1 at JFK_\n",
    "\n",
    "`expr(\"Load(C2, P2, JFK)\")`   -->  _Load Cargo C2 in Plane P2 at JFK_\n",
    "\n",
    "`expr(\"Fly(P2, JFK, SFO)\")`  -->  _Fly Plane P2 from JFK to San Fransisco_\n",
    "\n",
    "`expr(\"Unload (C2, P2, SFO)\")`   -->  _Unload Cargo C2 from Plane P2 at San Fransisco_\n"
   ]
  },
  {
   "cell_type": "markdown",
   "metadata": {},
   "source": [
    "We then execute the action on the state's kb."
   ]
  },
  {
   "cell_type": "code",
   "execution_count": 3,
   "metadata": {},
   "outputs": [],
   "source": [
    "a = air_cargo()\n",
    "\n",
    "for action in solution:\n",
    "    a.act(action)"
   ]
  },
  {
   "cell_type": "markdown",
   "metadata": {},
   "source": [
    "where each action is acted upon leading to a state which is tested below to be the goal state or not."
   ]
  },
  {
   "cell_type": "code",
   "execution_count": 4,
   "metadata": {},
   "outputs": [
    {
     "data": {
      "text/plain": [
       "True"
      ]
     },
     "execution_count": 4,
     "metadata": {},
     "output_type": "execute_result"
    }
   ],
   "source": [
    "a.goal_test()"
   ]
  },
  {
   "cell_type": "markdown",
   "metadata": {},
   "source": [
    "Yes, the solution is correct. You may try any other solution to check if it achieves the goal or not."
   ]
  },
  {
   "cell_type": "markdown",
   "metadata": {},
   "source": [
    "## Another related example - The Dock-Worker Robots (DWR) Domain\n",
    "\n",
    "It is specifically an example of automated planning, with the following scenario:\n",
    "- harbour with several locations (docs)\n",
    "- docked ships\n",
    "- storage area for containers\n",
    "- parking area for trains, trucks\n",
    "\n",
    "- Goal: \n",
    "   \t1. cranes to load and unload ships\n",
    "   \t2. robot carts to move around containers\n",
    "\n",
    "Like the air cargo transport problem, the actions can be sought to be  **put, take, load, unload, move**.\n",
    "\n",
    "The following figure depicts a simple instance of the problem where the initial state is S<sub>0</sub> (robot at location 2 and container on pallet in location 1) and the goal state is S<sub>5</sub> (container on robot at location 2).  <img src=\"files/images/dwr_state_transition.png\">   The state transitions are accompanied by the following actions:\n",
    "\n",
    "- S<sub>0</sub> (robot at location 2 and container on pallet in location 1) -- **initial state**; `At(robot, location2), At(container, location1), At(container, pallet)`\n",
    "- S<sub>1</sub> (robot at location 2 and container on crane in location 1) -- action `take(crane, container)` \n",
    "- S<sub>2</sub> (robot at location 1 and container on pallet in location 1) -- action `move(location2, location1), put(container, pallet)`\n",
    "- S<sub>3</sub> (robot at location 1 and container on crane in location 1) -- action `take(crane, container)`\n",
    "- S<sub>4</sub> (robot at location 1 and container on robot in location 1) -- action `load(robot, container)`\n",
    "- S<sub>5</sub> (robot at location 2 and container on robot in location 2) -- action  `move(location1, location2)` ; **goal state**\n"
   ]
  },
  {
   "cell_type": "markdown",
   "metadata": {},
   "source": [
    ""
   ]
  },
  {
   "cell_type": "markdown",
   "metadata": {},
   "source": [
    "# SPARE TIRE PROBLEM from Figure 10.2:\n",
    "\n",
    "The Spare Tire problem is to replace a flat tire on axle with a spare one. \n",
    "\n",
    "The problem follows the same structure of function as before, only the predicates are changed.\n"
   ]
  },
  {
   "cell_type": "code",
   "execution_count": 5,
   "metadata": {},
   "outputs": [],
   "source": [
    "init = [expr('Tire(Flat)'),\n",
    "            expr('Tire(Spare)'),\n",
    "            expr('At(Flat, Axle)'),\n",
    "            expr('At(Spare, Trunk)')]\n",
    "\n",
    "\n",
    "required = [expr('At(Spare, Axle)'), expr('At(Flat, Ground)')]"
   ]
  },
  {
   "cell_type": "markdown",
   "metadata": {},
   "source": [
    "`init ` states the initial state:\n",
    "\n",
    "`expr('Tire(Flat)')` --> _Flat Tire_\n",
    "\n",
    "`expr('Tire(Spare)')` --> _Spare Tire_\n",
    "\n",
    "`expr('At(Flat, Axle)')` --> _Flat Tire on Axle_\n",
    "\n",
    "`expr('At(Spare, Trunk)')` --> _Spare Tire in Trunk_\n",
    "\n",
    "\n",
    "`required = [expr('At(Spare, Axle)'), expr('At(Flat, Ground)')]` states the goal i.e., _Spare tire must be on Axle, and Flat tire on Ground_\n",
    "\n",
    "Just a sidenote, the action `At()` means same as _on, in, at_ in the problem reference."
   ]
  },
  {
   "cell_type": "code",
   "execution_count": 6,
   "metadata": {},
   "outputs": [],
   "source": [
    "# Actions\n",
    "\n",
    "# Remove\n",
    "precond_pos = [expr(\"At(obj, loc)\")]\n",
    "precond_neg = []\n",
    "effect_add = [expr(\"At(obj, Ground)\")]\n",
    "effect_rem = [expr(\"At(obj, loc)\")]\n",
    "remove = Action(expr(\"Remove(obj, loc)\"), [precond_pos, precond_neg], [effect_add, effect_rem])\n",
    "\n",
    "# PutOn\n",
    "precond_pos = [expr(\"Tire(t)\"), expr(\"At(t, Ground)\")]\n",
    "precond_neg = [expr(\"At(Flat, Axle)\")]\n",
    "effect_add = [expr(\"At(t, Axle)\")]\n",
    "effect_rem = [expr(\"At(t, Ground)\")]\n",
    "put_on = Action(expr(\"PutOn(t, Axle)\"), [precond_pos, precond_neg], [effect_add, effect_rem])\n",
    "\n",
    "# LeaveOvernight\n",
    "precond_pos = []\n",
    "precond_neg = []\n",
    "effect_add = []\n",
    "effect_rem = [expr(\"At(Spare, Ground)\"), expr(\"At(Spare, Axle)\"), expr(\"At(Spare, Trunk)\"),\n",
    "              expr(\"At(Flat, Ground)\"), expr(\"At(Flat, Axle)\"), expr(\"At(Flat, Trunk)\")]\n",
    "leave_overnight = Action(expr(\"LeaveOvernight\"), [precond_pos, precond_neg],\n",
    "                         [effect_add, effect_rem])"
   ]
  },
  {
   "cell_type": "markdown",
   "metadata": {},
   "source": [
    "The problem involves 3 actions:\n",
    "\n",
    "1. `Remove(obj, loc)` --> Remove object _obj_ from location _loc_.\n",
    "2. `PutOn(t, Axle)` --> Put tire_t_ on _Axle_\n",
    "3. `Leaveovernight` --> Leave tire overnight  _(we assume the neighbourhood is good and we find the tire at the same place the next day)_"
   ]
  },
  {
   "cell_type": "markdown",
   "metadata": {},
   "source": [
    "solution to the spare tire problem from the book is as follows:"
   ]
  },
  {
   "cell_type": "code",
   "execution_count": 7,
   "metadata": {},
   "outputs": [],
   "source": [
    "solution = [expr(\"Remove(Flat, Axle)\"),\n",
    "                expr(\"Remove(Spare, Trunk)\"),\n",
    "                expr(\"PutOn(Spare, Axle)\")]"
   ]
  },
  {
   "cell_type": "markdown",
   "metadata": {},
   "source": [
    "Following lines describe the _plan_ of the above solution:\n",
    "\n",
    "`expr(\"Remove(Flat, Axle)\")` --> _Remove Flat tire from Axle_\n",
    "\n",
    "`expr(\"Remove(Spare, Trunk)\")` --> _Remove Spare tire from Trunk_\n",
    "\n",
    "`expr(\"PutOn(Spare, Axle)\")` --> _Put Spare tire on Axle_\n"
   ]
  },
  {
   "cell_type": "markdown",
   "metadata": {},
   "source": [
    "let's test it in the same way as before :"
   ]
  },
  {
   "cell_type": "code",
   "execution_count": 8,
   "metadata": {},
   "outputs": [
    {
     "data": {
      "text/plain": [
       "True"
      ]
     },
     "execution_count": 8,
     "metadata": {},
     "output_type": "execute_result"
    }
   ],
   "source": [
    "s = spare_tire()\n",
    "\n",
    "for action in solution:\n",
    "    s.act(action)\n",
    "\n",
    "s.goal_test()"
   ]
  },
  {
   "cell_type": "markdown",
   "metadata": {},
   "source": [
    "The solution achieves the goal."
   ]
  },
  {
   "cell_type": "markdown",
   "metadata": {},
   "source": [
    ""
   ]
  },
  {
   "cell_type": "markdown",
   "metadata": {},
   "source": [
    "# THE BLOCKS WORLD from Figure 10.3 :"
   ]
  },
  {
   "cell_type": "markdown",
   "metadata": {},
   "source": [
    " The above image below shows the transitions between different states which are possible for 3 blocks. Watch how the rightmost transition is what we follow in the book.   <img src=\"files/images/blocks_world.png\">"
   ]
  }
 ],
 "metadata": {
  "kernelspec": {
   "display_name": "Python 3",
   "language": "python",
   "name": "python3"
  },
  "language_info": {
   "codemirror_mode": {
    "name": "ipython",
    "version": 3.0
   },
   "file_extension": ".py",
   "mimetype": "text/x-python",
   "name": "python",
   "nbconvert_exporter": "python",
   "pygments_lexer": "ipython3",
   "version": "3.5.1"
  }
 },
 "nbformat": 4,
 "nbformat_minor": 0
}
